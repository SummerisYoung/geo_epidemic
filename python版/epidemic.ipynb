{
 "cells": [
  {
   "cell_type": "code",
   "execution_count": 3,
   "metadata": {},
   "outputs": [],
   "source": [
    "import requests\n",
    "\n",
    "headers = {'User-Agent':'Mozilla/5.0 (Windows NT 10.0; WOW64) AppleWebKit/537.36 (KHTML, like Gecko) Chrome/55.0.2883.87 Safari/537.36'}\n",
    "data = {'_':'1580443848435'}\n",
    "response = requests.get('https://interface.sina.cn/news/wap/fymap2020_data.d.json?',params=data,headers=headers)"
   ]
  },
  {
   "cell_type": "code",
   "execution_count": 4,
   "metadata": {},
   "outputs": [],
   "source": [
    "import json\n",
    "\n",
    "if response.status_code == 200:\n",
    "    content=json.loads(response.text).get('data')\n",
    "    times = content['times']\n",
    "    lists = content['list']\n",
    "    confirmLists = [] # 确诊\n",
    "    suspectLists = [] # 疑似\n",
    "    deathLists = [] # 死亡\n",
    "    cureLists = [] #治愈\n",
    "    for l in lists:\n",
    "        confirmList = []\n",
    "        confirmList.append(l['name'])\n",
    "        confirmList.append(l['value'])\n",
    "        confirmLists.append(confirmList)\n",
    "        \n",
    "        suspectList = []\n",
    "        suspectList.append(l['name'])\n",
    "        suspectList.append(l['susNum'])\n",
    "        suspectLists.append(suspectList)\n",
    "        \n",
    "        deathList = []\n",
    "        deathList.append(l['name'])\n",
    "        deathList.append(l['deathNum'])\n",
    "        deathLists.append(deathList)\n",
    "        \n",
    "        cureList = []\n",
    "        cureList.append(l['name'])\n",
    "        cureList.append(l['cureNum'])\n",
    "        cureLists.append(cureList)\n",
    "    \n",
    "# print(confirmLists)\n",
    "# print(suspectLists)\n",
    "# print(deathLists)\n",
    "# print(cureLists)"
   ]
  },
  {
   "cell_type": "code",
   "execution_count": 8,
   "metadata": {},
   "outputs": [
    {
     "data": {
      "text/plain": [
       "'C:\\\\Users\\\\Administrator\\\\show.html'"
      ]
     },
     "execution_count": 8,
     "metadata": {},
     "output_type": "execute_result"
    }
   ],
   "source": [
    "from pyecharts.charts import Map\n",
    "from pyecharts import options as opts\n",
    "\n",
    "def geo_epidemic() -> Map:\n",
    "    pieces=[{'min':1000,'color':'#880000'},\n",
    "    {'min':500,'max':1000,'color':'#CC0000'},\n",
    "    {'min':100,'max':499,'color':'#FF3333'},\n",
    "    {'min':10,'max':99,'color':'#FF7744'},\n",
    "    {'min':1,'max':9,'color':'#FFC8B4'},\n",
    "    {'max':1,'color':'#FFFFFF'}]\n",
    "    c = (\n",
    "         Map(init_opts=opts.InitOpts(width='1400px',height='700px'))\n",
    "        .add(\"确诊\", confirmLists)\n",
    "        .add(\"疑似\", suspectLists,is_selected=False)\n",
    "        .add(\"死亡\", deathLists,is_selected=False)\n",
    "        .add(\"治愈\", cureLists,is_selected=False)\n",
    "        .set_series_opts(label_opts=opts.LabelOpts(is_show=True))\n",
    "        .set_global_opts(\n",
    "            visualmap_opts=opts.VisualMapOpts(is_piecewise=True,pieces=pieces,pos_left='5%',pos_top='middle'),\n",
    "            title_opts=opts.TitleOpts(title='武汉肺炎疫情地图',subtitle=times,pos_left='center',pos_top='10%')\n",
    "        )\n",
    "    )\n",
    "    return c\n",
    "\n",
    "geo_epidemic().render('show.html')"
   ]
  }
 ],
 "metadata": {
  "kernelspec": {
   "display_name": "Python 3",
   "language": "python",
   "name": "python3"
  },
  "language_info": {
   "codemirror_mode": {
    "name": "ipython",
    "version": 3
   },
   "file_extension": ".py",
   "mimetype": "text/x-python",
   "name": "python",
   "nbconvert_exporter": "python",
   "pygments_lexer": "ipython3",
   "version": "3.6.6"
  }
 },
 "nbformat": 4,
 "nbformat_minor": 2
}
